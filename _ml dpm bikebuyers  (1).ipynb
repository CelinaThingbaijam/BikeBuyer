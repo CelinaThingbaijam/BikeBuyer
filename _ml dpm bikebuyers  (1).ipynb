{
 "cells": [
  {
   "cell_type": "markdown",
   "id": "724e7d4f",
   "metadata": {},
   "source": [
    "# Bike Buyers"
   ]
  },
  {
   "cell_type": "code",
   "execution_count": 1,
   "id": "30b431aa",
   "metadata": {},
   "outputs": [],
   "source": [
    "import numpy as np \n",
    "import pandas as pd\n",
    "import matplotlib.pyplot as plt"
   ]
  },
  {
   "cell_type": "code",
   "execution_count": 2,
   "id": "4aca5d92",
   "metadata": {},
   "outputs": [
    {
     "data": {
      "text/html": [
       "<div>\n",
       "<style scoped>\n",
       "    .dataframe tbody tr th:only-of-type {\n",
       "        vertical-align: middle;\n",
       "    }\n",
       "\n",
       "    .dataframe tbody tr th {\n",
       "        vertical-align: top;\n",
       "    }\n",
       "\n",
       "    .dataframe thead th {\n",
       "        text-align: right;\n",
       "    }\n",
       "</style>\n",
       "<table border=\"1\" class=\"dataframe\">\n",
       "  <thead>\n",
       "    <tr style=\"text-align: right;\">\n",
       "      <th></th>\n",
       "      <th>id</th>\n",
       "      <th>Marital Status</th>\n",
       "      <th>Gender</th>\n",
       "      <th>Yearly Income</th>\n",
       "      <th>Children</th>\n",
       "      <th>Education</th>\n",
       "      <th>Occupation</th>\n",
       "      <th>Home Owner</th>\n",
       "      <th>Cars</th>\n",
       "      <th>Commute Distance</th>\n",
       "      <th>Region</th>\n",
       "      <th>Age</th>\n",
       "      <th>BikeBuyer</th>\n",
       "    </tr>\n",
       "  </thead>\n",
       "  <tbody>\n",
       "    <tr>\n",
       "      <th>0</th>\n",
       "      <td>22711</td>\n",
       "      <td>Single</td>\n",
       "      <td>Male</td>\n",
       "      <td>30000.0</td>\n",
       "      <td>0</td>\n",
       "      <td>Partial College</td>\n",
       "      <td>Clerical</td>\n",
       "      <td>No</td>\n",
       "      <td>1</td>\n",
       "      <td>0-1 Miles</td>\n",
       "      <td>Europe</td>\n",
       "      <td>33</td>\n",
       "      <td>Yes</td>\n",
       "    </tr>\n",
       "    <tr>\n",
       "      <th>1</th>\n",
       "      <td>13555</td>\n",
       "      <td>Married</td>\n",
       "      <td>Female</td>\n",
       "      <td>40000.0</td>\n",
       "      <td>0</td>\n",
       "      <td>Graduate Degree</td>\n",
       "      <td>Clerical</td>\n",
       "      <td>Yes</td>\n",
       "      <td>0</td>\n",
       "      <td>0-1 Miles</td>\n",
       "      <td>Europe</td>\n",
       "      <td>37</td>\n",
       "      <td>Yes</td>\n",
       "    </tr>\n",
       "    <tr>\n",
       "      <th>2</th>\n",
       "      <td>28907</td>\n",
       "      <td>NaN</td>\n",
       "      <td>Male</td>\n",
       "      <td>160000.0</td>\n",
       "      <td>5</td>\n",
       "      <td>Partial College</td>\n",
       "      <td>Professional</td>\n",
       "      <td>No</td>\n",
       "      <td>3</td>\n",
       "      <td>10+ Miles</td>\n",
       "      <td>Europe</td>\n",
       "      <td>55</td>\n",
       "      <td>No</td>\n",
       "    </tr>\n",
       "    <tr>\n",
       "      <th>3</th>\n",
       "      <td>25410</td>\n",
       "      <td>NaN</td>\n",
       "      <td>Female</td>\n",
       "      <td>70000.0</td>\n",
       "      <td>2</td>\n",
       "      <td>Bachelors</td>\n",
       "      <td>Skilled Manual</td>\n",
       "      <td>No</td>\n",
       "      <td>1</td>\n",
       "      <td>0-1 Miles</td>\n",
       "      <td>North America</td>\n",
       "      <td>38</td>\n",
       "      <td>Yes</td>\n",
       "    </tr>\n",
       "    <tr>\n",
       "      <th>4</th>\n",
       "      <td>15756</td>\n",
       "      <td>Single</td>\n",
       "      <td>Female</td>\n",
       "      <td>70000.0</td>\n",
       "      <td>0</td>\n",
       "      <td>High School</td>\n",
       "      <td>Professional</td>\n",
       "      <td>Yes</td>\n",
       "      <td>2</td>\n",
       "      <td>5-10 Miles</td>\n",
       "      <td>Pacific</td>\n",
       "      <td>49</td>\n",
       "      <td>Yes</td>\n",
       "    </tr>\n",
       "  </tbody>\n",
       "</table>\n",
       "</div>"
      ],
      "text/plain": [
       "      id Marital Status  Gender  Yearly Income  Children        Education  \\\n",
       "0  22711         Single    Male        30000.0         0  Partial College   \n",
       "1  13555        Married  Female        40000.0         0  Graduate Degree   \n",
       "2  28907            NaN    Male       160000.0         5  Partial College   \n",
       "3  25410            NaN  Female        70000.0         2        Bachelors   \n",
       "4  15756         Single  Female        70000.0         0      High School   \n",
       "\n",
       "       Occupation Home Owner  Cars Commute Distance         Region  Age  \\\n",
       "0        Clerical         No     1        0-1 Miles         Europe   33   \n",
       "1        Clerical        Yes     0        0-1 Miles         Europe   37   \n",
       "2    Professional         No     3        10+ Miles         Europe   55   \n",
       "3  Skilled Manual         No     1        0-1 Miles  North America   38   \n",
       "4    Professional        Yes     2       5-10 Miles        Pacific   49   \n",
       "\n",
       "  BikeBuyer  \n",
       "0       Yes  \n",
       "1       Yes  \n",
       "2        No  \n",
       "3       Yes  \n",
       "4       Yes  "
      ]
     },
     "execution_count": 2,
     "metadata": {},
     "output_type": "execute_result"
    }
   ],
   "source": [
    "url =\"C:\\\\Users\\\\Thingbaijam Celina\\\\Downloads\\\\bikebuyer1 (1).csv\"\n",
    "data = pd.read_csv(url)\n",
    "data.head()"
   ]
  },
  {
   "cell_type": "code",
   "execution_count": 3,
   "id": "e4fb9a70",
   "metadata": {},
   "outputs": [
    {
     "data": {
      "text/plain": [
       "id                  0\n",
       "Marital Status      4\n",
       "Gender              0\n",
       "Yearly Income       3\n",
       "Children            0\n",
       "Education           0\n",
       "Occupation          0\n",
       "Home Owner          0\n",
       "Cars                0\n",
       "Commute Distance    0\n",
       "Region              0\n",
       "Age                 0\n",
       "BikeBuyer           0\n",
       "dtype: int64"
      ]
     },
     "execution_count": 3,
     "metadata": {},
     "output_type": "execute_result"
    }
   ],
   "source": [
    "data.isna().sum()"
   ]
  },
  {
   "cell_type": "code",
   "execution_count": 4,
   "id": "f6114304",
   "metadata": {},
   "outputs": [
    {
     "data": {
      "text/html": [
       "<div>\n",
       "<style scoped>\n",
       "    .dataframe tbody tr th:only-of-type {\n",
       "        vertical-align: middle;\n",
       "    }\n",
       "\n",
       "    .dataframe tbody tr th {\n",
       "        vertical-align: top;\n",
       "    }\n",
       "\n",
       "    .dataframe thead th {\n",
       "        text-align: right;\n",
       "    }\n",
       "</style>\n",
       "<table border=\"1\" class=\"dataframe\">\n",
       "  <thead>\n",
       "    <tr style=\"text-align: right;\">\n",
       "      <th></th>\n",
       "      <th>id</th>\n",
       "      <th>Marital Status</th>\n",
       "      <th>Gender</th>\n",
       "      <th>Yearly Income</th>\n",
       "      <th>Children</th>\n",
       "      <th>Education</th>\n",
       "      <th>Occupation</th>\n",
       "      <th>Home Owner</th>\n",
       "      <th>Cars</th>\n",
       "      <th>Commute Distance</th>\n",
       "      <th>Region</th>\n",
       "      <th>Age</th>\n",
       "      <th>BikeBuyer</th>\n",
       "    </tr>\n",
       "  </thead>\n",
       "  <tbody>\n",
       "    <tr>\n",
       "      <th>0</th>\n",
       "      <td>22711</td>\n",
       "      <td>Single</td>\n",
       "      <td>Male</td>\n",
       "      <td>30000.0</td>\n",
       "      <td>0</td>\n",
       "      <td>Partial College</td>\n",
       "      <td>Clerical</td>\n",
       "      <td>No</td>\n",
       "      <td>1</td>\n",
       "      <td>0-1 Miles</td>\n",
       "      <td>Europe</td>\n",
       "      <td>33</td>\n",
       "      <td>Yes</td>\n",
       "    </tr>\n",
       "    <tr>\n",
       "      <th>1</th>\n",
       "      <td>13555</td>\n",
       "      <td>Married</td>\n",
       "      <td>Female</td>\n",
       "      <td>40000.0</td>\n",
       "      <td>0</td>\n",
       "      <td>Graduate Degree</td>\n",
       "      <td>Clerical</td>\n",
       "      <td>Yes</td>\n",
       "      <td>0</td>\n",
       "      <td>0-1 Miles</td>\n",
       "      <td>Europe</td>\n",
       "      <td>37</td>\n",
       "      <td>Yes</td>\n",
       "    </tr>\n",
       "    <tr>\n",
       "      <th>2</th>\n",
       "      <td>28907</td>\n",
       "      <td>Married</td>\n",
       "      <td>Male</td>\n",
       "      <td>160000.0</td>\n",
       "      <td>5</td>\n",
       "      <td>Partial College</td>\n",
       "      <td>Professional</td>\n",
       "      <td>No</td>\n",
       "      <td>3</td>\n",
       "      <td>10+ Miles</td>\n",
       "      <td>Europe</td>\n",
       "      <td>55</td>\n",
       "      <td>No</td>\n",
       "    </tr>\n",
       "    <tr>\n",
       "      <th>3</th>\n",
       "      <td>25410</td>\n",
       "      <td>Married</td>\n",
       "      <td>Female</td>\n",
       "      <td>70000.0</td>\n",
       "      <td>2</td>\n",
       "      <td>Bachelors</td>\n",
       "      <td>Skilled Manual</td>\n",
       "      <td>No</td>\n",
       "      <td>1</td>\n",
       "      <td>0-1 Miles</td>\n",
       "      <td>North America</td>\n",
       "      <td>38</td>\n",
       "      <td>Yes</td>\n",
       "    </tr>\n",
       "    <tr>\n",
       "      <th>4</th>\n",
       "      <td>15756</td>\n",
       "      <td>Single</td>\n",
       "      <td>Female</td>\n",
       "      <td>70000.0</td>\n",
       "      <td>0</td>\n",
       "      <td>High School</td>\n",
       "      <td>Professional</td>\n",
       "      <td>Yes</td>\n",
       "      <td>2</td>\n",
       "      <td>5-10 Miles</td>\n",
       "      <td>Pacific</td>\n",
       "      <td>49</td>\n",
       "      <td>Yes</td>\n",
       "    </tr>\n",
       "  </tbody>\n",
       "</table>\n",
       "</div>"
      ],
      "text/plain": [
       "      id Marital Status  Gender  Yearly Income  Children        Education  \\\n",
       "0  22711         Single    Male        30000.0         0  Partial College   \n",
       "1  13555        Married  Female        40000.0         0  Graduate Degree   \n",
       "2  28907        Married    Male       160000.0         5  Partial College   \n",
       "3  25410        Married  Female        70000.0         2        Bachelors   \n",
       "4  15756         Single  Female        70000.0         0      High School   \n",
       "\n",
       "       Occupation Home Owner  Cars Commute Distance         Region  Age  \\\n",
       "0        Clerical         No     1        0-1 Miles         Europe   33   \n",
       "1        Clerical        Yes     0        0-1 Miles         Europe   37   \n",
       "2    Professional         No     3        10+ Miles         Europe   55   \n",
       "3  Skilled Manual         No     1        0-1 Miles  North America   38   \n",
       "4    Professional        Yes     2       5-10 Miles        Pacific   49   \n",
       "\n",
       "  BikeBuyer  \n",
       "0       Yes  \n",
       "1       Yes  \n",
       "2        No  \n",
       "3       Yes  \n",
       "4       Yes  "
      ]
     },
     "execution_count": 4,
     "metadata": {},
     "output_type": "execute_result"
    }
   ],
   "source": [
    "data[\"Marital Status\"].fillna(\"Married\",inplace = True)\n",
    "data.head()"
   ]
  },
  {
   "cell_type": "code",
   "execution_count": 5,
   "id": "78b06625",
   "metadata": {},
   "outputs": [],
   "source": [
    "data = data.drop([\"id\"],axis= 1)"
   ]
  },
  {
   "cell_type": "code",
   "execution_count": 6,
   "id": "4ae0865d",
   "metadata": {},
   "outputs": [],
   "source": [
    "data = data.values"
   ]
  },
  {
   "cell_type": "code",
   "execution_count": 7,
   "id": "931d72cb",
   "metadata": {},
   "outputs": [
    {
     "data": {
      "text/plain": [
       "array([['Single', 'Male', 30000.0, ..., 'Europe', 33, 'Yes'],\n",
       "       ['Married', 'Female', 40000.0, ..., 'Europe', 37, 'Yes'],\n",
       "       ['Married', 'Male', 160000.0, ..., 'Europe', 55, 'No'],\n",
       "       ...,\n",
       "       ['Married', 'Male', 50000.0, ..., 'North America', 32, 'No'],\n",
       "       ['Single', 'Male', 50000.0, ..., 'North America', 32, 'No'],\n",
       "       ['Married', 'Female', 50000.0, ..., 'North America', 32, 'No']],\n",
       "      dtype=object)"
      ]
     },
     "execution_count": 7,
     "metadata": {},
     "output_type": "execute_result"
    }
   ],
   "source": [
    "data"
   ]
  },
  {
   "cell_type": "code",
   "execution_count": 8,
   "id": "a95d038f",
   "metadata": {},
   "outputs": [
    {
     "data": {
      "text/html": [
       "<div>\n",
       "<style scoped>\n",
       "    .dataframe tbody tr th:only-of-type {\n",
       "        vertical-align: middle;\n",
       "    }\n",
       "\n",
       "    .dataframe tbody tr th {\n",
       "        vertical-align: top;\n",
       "    }\n",
       "\n",
       "    .dataframe thead th {\n",
       "        text-align: right;\n",
       "    }\n",
       "</style>\n",
       "<table border=\"1\" class=\"dataframe\">\n",
       "  <thead>\n",
       "    <tr style=\"text-align: right;\">\n",
       "      <th></th>\n",
       "      <th>0</th>\n",
       "      <th>1</th>\n",
       "      <th>2</th>\n",
       "      <th>3</th>\n",
       "      <th>4</th>\n",
       "      <th>5</th>\n",
       "      <th>6</th>\n",
       "      <th>7</th>\n",
       "      <th>8</th>\n",
       "      <th>9</th>\n",
       "      <th>10</th>\n",
       "      <th>11</th>\n",
       "    </tr>\n",
       "  </thead>\n",
       "  <tbody>\n",
       "    <tr>\n",
       "      <th>0</th>\n",
       "      <td>Single</td>\n",
       "      <td>Male</td>\n",
       "      <td>30000.0</td>\n",
       "      <td>0</td>\n",
       "      <td>Partial College</td>\n",
       "      <td>Clerical</td>\n",
       "      <td>No</td>\n",
       "      <td>1</td>\n",
       "      <td>0-1 Miles</td>\n",
       "      <td>Europe</td>\n",
       "      <td>33</td>\n",
       "      <td>Yes</td>\n",
       "    </tr>\n",
       "    <tr>\n",
       "      <th>1</th>\n",
       "      <td>Married</td>\n",
       "      <td>Female</td>\n",
       "      <td>40000.0</td>\n",
       "      <td>0</td>\n",
       "      <td>Graduate Degree</td>\n",
       "      <td>Clerical</td>\n",
       "      <td>Yes</td>\n",
       "      <td>0</td>\n",
       "      <td>0-1 Miles</td>\n",
       "      <td>Europe</td>\n",
       "      <td>37</td>\n",
       "      <td>Yes</td>\n",
       "    </tr>\n",
       "    <tr>\n",
       "      <th>2</th>\n",
       "      <td>Married</td>\n",
       "      <td>Male</td>\n",
       "      <td>160000.0</td>\n",
       "      <td>5</td>\n",
       "      <td>Partial College</td>\n",
       "      <td>Professional</td>\n",
       "      <td>No</td>\n",
       "      <td>3</td>\n",
       "      <td>10+ Miles</td>\n",
       "      <td>Europe</td>\n",
       "      <td>55</td>\n",
       "      <td>No</td>\n",
       "    </tr>\n",
       "    <tr>\n",
       "      <th>3</th>\n",
       "      <td>Married</td>\n",
       "      <td>Female</td>\n",
       "      <td>70000.0</td>\n",
       "      <td>2</td>\n",
       "      <td>Bachelors</td>\n",
       "      <td>Skilled Manual</td>\n",
       "      <td>No</td>\n",
       "      <td>1</td>\n",
       "      <td>0-1 Miles</td>\n",
       "      <td>North America</td>\n",
       "      <td>38</td>\n",
       "      <td>Yes</td>\n",
       "    </tr>\n",
       "    <tr>\n",
       "      <th>4</th>\n",
       "      <td>Single</td>\n",
       "      <td>Female</td>\n",
       "      <td>70000.0</td>\n",
       "      <td>0</td>\n",
       "      <td>High School</td>\n",
       "      <td>Professional</td>\n",
       "      <td>Yes</td>\n",
       "      <td>2</td>\n",
       "      <td>5-10 Miles</td>\n",
       "      <td>Pacific</td>\n",
       "      <td>49</td>\n",
       "      <td>Yes</td>\n",
       "    </tr>\n",
       "  </tbody>\n",
       "</table>\n",
       "</div>"
      ],
      "text/plain": [
       "        0       1         2  3                4               5    6  7   \\\n",
       "0   Single    Male   30000.0  0  Partial College        Clerical   No  1   \n",
       "1  Married  Female   40000.0  0  Graduate Degree        Clerical  Yes  0   \n",
       "2  Married    Male  160000.0  5  Partial College    Professional   No  3   \n",
       "3  Married  Female   70000.0  2        Bachelors  Skilled Manual   No  1   \n",
       "4   Single  Female   70000.0  0      High School    Professional  Yes  2   \n",
       "\n",
       "           8              9   10   11  \n",
       "0   0-1 Miles         Europe  33  Yes  \n",
       "1   0-1 Miles         Europe  37  Yes  \n",
       "2   10+ Miles         Europe  55   No  \n",
       "3   0-1 Miles  North America  38  Yes  \n",
       "4  5-10 Miles        Pacific  49  Yes  "
      ]
     },
     "execution_count": 8,
     "metadata": {},
     "output_type": "execute_result"
    }
   ],
   "source": [
    "from sklearn.impute import SimpleImputer\n",
    "si = SimpleImputer(missing_values = np.nan,strategy = \"mean\",verbose = 0)\n",
    "si.fit(data[:,2:3])\n",
    "data[:,2:3] = si.fit_transform(data[:,2:3])\n",
    "data = pd.DataFrame(data)\n",
    "data.head()"
   ]
  },
  {
   "cell_type": "code",
   "execution_count": 9,
   "id": "52c66264",
   "metadata": {},
   "outputs": [
    {
     "data": {
      "text/html": [
       "<div>\n",
       "<style scoped>\n",
       "    .dataframe tbody tr th:only-of-type {\n",
       "        vertical-align: middle;\n",
       "    }\n",
       "\n",
       "    .dataframe tbody tr th {\n",
       "        vertical-align: top;\n",
       "    }\n",
       "\n",
       "    .dataframe thead th {\n",
       "        text-align: right;\n",
       "    }\n",
       "</style>\n",
       "<table border=\"1\" class=\"dataframe\">\n",
       "  <thead>\n",
       "    <tr style=\"text-align: right;\">\n",
       "      <th></th>\n",
       "      <th>0</th>\n",
       "      <th>1</th>\n",
       "      <th>2</th>\n",
       "      <th>3</th>\n",
       "      <th>4</th>\n",
       "      <th>5</th>\n",
       "      <th>6</th>\n",
       "      <th>7</th>\n",
       "      <th>8</th>\n",
       "      <th>9</th>\n",
       "      <th>10</th>\n",
       "      <th>11</th>\n",
       "    </tr>\n",
       "  </thead>\n",
       "  <tbody>\n",
       "    <tr>\n",
       "      <th>9993</th>\n",
       "      <td>0</td>\n",
       "      <td>0</td>\n",
       "      <td>40000.0</td>\n",
       "      <td>0</td>\n",
       "      <td>3</td>\n",
       "      <td>4</td>\n",
       "      <td>1</td>\n",
       "      <td>1</td>\n",
       "      <td>4</td>\n",
       "      <td>1</td>\n",
       "      <td>29</td>\n",
       "      <td>0</td>\n",
       "    </tr>\n",
       "    <tr>\n",
       "      <th>9994</th>\n",
       "      <td>1</td>\n",
       "      <td>0</td>\n",
       "      <td>40000.0</td>\n",
       "      <td>0</td>\n",
       "      <td>3</td>\n",
       "      <td>4</td>\n",
       "      <td>0</td>\n",
       "      <td>1</td>\n",
       "      <td>1</td>\n",
       "      <td>1</td>\n",
       "      <td>30</td>\n",
       "      <td>0</td>\n",
       "    </tr>\n",
       "    <tr>\n",
       "      <th>9995</th>\n",
       "      <td>0</td>\n",
       "      <td>1</td>\n",
       "      <td>50000.0</td>\n",
       "      <td>0</td>\n",
       "      <td>3</td>\n",
       "      <td>4</td>\n",
       "      <td>1</td>\n",
       "      <td>1</td>\n",
       "      <td>4</td>\n",
       "      <td>1</td>\n",
       "      <td>32</td>\n",
       "      <td>0</td>\n",
       "    </tr>\n",
       "    <tr>\n",
       "      <th>9996</th>\n",
       "      <td>1</td>\n",
       "      <td>1</td>\n",
       "      <td>50000.0</td>\n",
       "      <td>0</td>\n",
       "      <td>3</td>\n",
       "      <td>4</td>\n",
       "      <td>1</td>\n",
       "      <td>1</td>\n",
       "      <td>4</td>\n",
       "      <td>1</td>\n",
       "      <td>32</td>\n",
       "      <td>0</td>\n",
       "    </tr>\n",
       "    <tr>\n",
       "      <th>9997</th>\n",
       "      <td>0</td>\n",
       "      <td>0</td>\n",
       "      <td>50000.0</td>\n",
       "      <td>0</td>\n",
       "      <td>3</td>\n",
       "      <td>4</td>\n",
       "      <td>1</td>\n",
       "      <td>1</td>\n",
       "      <td>4</td>\n",
       "      <td>1</td>\n",
       "      <td>32</td>\n",
       "      <td>0</td>\n",
       "    </tr>\n",
       "  </tbody>\n",
       "</table>\n",
       "</div>"
      ],
      "text/plain": [
       "      0   1        2  3   4   5   6  7   8   9   10  11\n",
       "9993   0   0  40000.0  0   3   4   1  1   4   1  29   0\n",
       "9994   1   0  40000.0  0   3   4   0  1   1   1  30   0\n",
       "9995   0   1  50000.0  0   3   4   1  1   4   1  32   0\n",
       "9996   1   1  50000.0  0   3   4   1  1   4   1  32   0\n",
       "9997   0   0  50000.0  0   3   4   1  1   4   1  32   0"
      ]
     },
     "execution_count": 9,
     "metadata": {},
     "output_type": "execute_result"
    }
   ],
   "source": [
    "from sklearn.preprocessing import LabelEncoder\n",
    "le = LabelEncoder()\n",
    "data[0] = le.fit_transform(data[0])\n",
    "data[1] =le.fit_transform(data[1])\n",
    "data[4] =le.fit_transform(data[4])\n",
    "data[5] = le.fit_transform(data[5])\n",
    "data[6] = le.fit_transform(data[6])\n",
    "data[8] = le.fit_transform(data[8])\n",
    "data[9] = le.fit_transform(data[9])\n",
    "data[11] = le.fit_transform(data[11])\n",
    "\n",
    "data.tail()"
   ]
  },
  {
   "cell_type": "code",
   "execution_count": 10,
   "id": "db27f0d8",
   "metadata": {},
   "outputs": [
    {
     "name": "stdout",
     "output_type": "stream",
     "text": [
      "<class 'pandas.core.frame.DataFrame'>\n",
      "RangeIndex: 9998 entries, 0 to 9997\n",
      "Data columns (total 12 columns):\n",
      " #   Column  Non-Null Count  Dtype \n",
      "---  ------  --------------  ----- \n",
      " 0   0       9998 non-null   int32 \n",
      " 1   1       9998 non-null   int32 \n",
      " 2   2       9998 non-null   object\n",
      " 3   3       9998 non-null   object\n",
      " 4   4       9998 non-null   int32 \n",
      " 5   5       9998 non-null   int32 \n",
      " 6   6       9998 non-null   int32 \n",
      " 7   7       9998 non-null   object\n",
      " 8   8       9998 non-null   int32 \n",
      " 9   9       9998 non-null   int32 \n",
      " 10  10      9998 non-null   object\n",
      " 11  11      9998 non-null   int32 \n",
      "dtypes: int32(8), object(4)\n",
      "memory usage: 625.0+ KB\n"
     ]
    }
   ],
   "source": [
    "data.info()"
   ]
  },
  {
   "cell_type": "code",
   "execution_count": 28,
   "id": "788847b7",
   "metadata": {},
   "outputs": [
    {
     "data": {
      "image/png": "[encoded data removed]",
      "text/plain": [
       "<Figure size 720x720 with 12 Axes>"
      ]
     },
     "metadata": {
      "needs_background": "light"
     },
     "output_type": "display_data"
    }
   ],
   "source": [
    "data.hist(figsize =(10,10))\n",
    "plt.show()"
   ]
  },
  {
   "cell_type": "code",
   "execution_count": 12,
   "id": "eef2f4fd",
   "metadata": {},
   "outputs": [
    {
     "data": {
      "image/png": "[encoded data removed]",
      "text/plain": [
       "<Figure size 432x288 with 2 Axes>"
      ]
     },
     "metadata": {
      "needs_background": "light"
     },
     "output_type": "display_data"
    }
   ],
   "source": [
    "fig = plt.figure()\n",
    "ax = fig.add_subplot(111)\n",
    "cax = ax.matshow(data.corr(),vmin = 1,vmax = 1)\n",
    "fig.colorbar(cax)\n",
    "plt.show()"
   ]
  },
  {
   "cell_type": "code",
   "execution_count": 13,
   "id": "d4bac581",
   "metadata": {},
   "outputs": [
    {
     "name": "stdout",
     "output_type": "stream",
     "text": [
      "[[1. 1. 1. 0. 1. 0. 0. 1. 0. 0. 1. 1.]\n",
      " [0. 0. 1. 0. 1. 0. 1. 0. 0. 0. 1. 1.]\n",
      " [0. 1. 1. 1. 1. 1. 0. 1. 1. 0. 1. 0.]\n",
      " [0. 0. 1. 1. 0. 1. 0. 1. 0. 1. 1. 1.]]\n"
     ]
    }
   ],
   "source": [
    "from sklearn.preprocessing import Binarizer\n",
    "scaler = Binarizer(threshold =0.0).fit(data)\n",
    "data = scaler.transform(data)\n",
    "np.set_printoptions(precision = 3)\n",
    "print(data[:4,:])"
   ]
  },
  {
   "cell_type": "code",
   "execution_count": 14,
   "id": "2e01d1f2",
   "metadata": {},
   "outputs": [],
   "source": [
    "data = pd.DataFrame(data)"
   ]
  },
  {
   "cell_type": "code",
   "execution_count": 15,
   "id": "2dceb8b3",
   "metadata": {},
   "outputs": [
    {
     "name": "stdout",
     "output_type": "stream",
     "text": [
      "LR: 89.918182 (0.002126)\n",
      "LDA: 89.918182 (0.002126)\n",
      "CART: 89.987879 (0.002152)\n",
      "KNN: 89.006061 (0.005936)\n",
      "svm: 89.918182 (0.002252)\n",
      "NB: 89.263636 (0.005080)\n"
     ]
    }
   ],
   "source": [
    "from sklearn import model_selection\n",
    "from sklearn.tree import DecisionTreeClassifier\n",
    "from sklearn.linear_model import LogisticRegression\n",
    "from sklearn.neighbors import KNeighborsClassifier\n",
    "from sklearn.svm import SVC\n",
    "from sklearn.naive_bayes import GaussianNB\n",
    "from sklearn.discriminant_analysis import LinearDiscriminantAnalysis\n",
    "from sklearn.metrics import accuracy_score\n",
    "\n",
    "array = data.values\n",
    "x = array[:,:-1]\n",
    "y = array[:,-1]\n",
    "test_size = 0.33\n",
    "seed=8\n",
    "scoring = 'accuracy'\n",
    "\n",
    "models = []\n",
    "models.append((\"LR\",LogisticRegression()))\n",
    "models.append((\"LDA\",LinearDiscriminantAnalysis()))\n",
    "models.append((\"CART\",DecisionTreeClassifier()))\n",
    "models.append((\"KNN\",KNeighborsClassifier()))\n",
    "models.append((\"svm\",SVC()))\n",
    "models.append((\"NB\",GaussianNB()))\n",
    "results = []\n",
    "names = []\n",
    "\n",
    "for name,model in models:\n",
    "    kfold = model_selection.ShuffleSplit(n_splits =10,test_size = test_size ,random_state = seed)\n",
    "    cv_results = model_selection.cross_val_score(model,x,y,cv = kfold,scoring = scoring)\n",
    "    results.append(cv_results)\n",
    "    names.append(name)\n",
    "    msg = \"%s: %f (%f)\" % (name,cv_results.mean()*100,cv_results.std())\n",
    "    print(msg)"
   ]
  },
  {
   "cell_type": "code",
   "execution_count": 16,
   "id": "c369a203",
   "metadata": {},
   "outputs": [
    {
     "data": {
      "image/png": "[encoded data removed]",
      "text/plain": [
       "<Figure size 432x288 with 1 Axes>"
      ]
     },
     "metadata": {
      "needs_background": "light"
     },
     "output_type": "display_data"
    }
   ],
   "source": [
    "fig = plt.figure()\n",
    "fig.suptitle(\"Algorithms Comparision\")\n",
    "ax = fig.add_subplot(111)\n",
    "plt.boxplot(results)\n",
    "ax.set_xticklabels(names)\n",
    "plt.show()"
   ]
  },
  {
   "cell_type": "code",
   "execution_count": 17,
   "id": "dc817637",
   "metadata": {},
   "outputs": [
    {
     "name": "stdout",
     "output_type": "stream",
     "text": [
      "ScaledLR: 89.918182 (0.002126)\n",
      "ScaledLDA: 89.918182 (0.002126)\n",
      "ScaledKNN: 89.051515 (0.006230)\n",
      "ScaledCART: 89.978788 (0.002156)\n",
      "ScaledNB: 89.263636 (0.005080)\n",
      "ScaledSVM: 89.990909 (0.002402)\n"
     ]
    }
   ],
   "source": [
    "from sklearn.pipeline import Pipeline \n",
    "from sklearn.preprocessing import StandardScaler\n",
    "\n",
    "pipelines = []\n",
    "pipelines.append((\"ScaledLR\",Pipeline([(\"bina\",StandardScaler()),(\"LR\",LogisticRegression())])))\n",
    "pipelines.append((\"ScaledLDA\",Pipeline([(\"bina\",StandardScaler()),(\"LDA\",LinearDiscriminantAnalysis())])))\n",
    "pipelines.append((\"ScaledKNN\",Pipeline([(\"bina\",StandardScaler()),(\"KNN\",KNeighborsClassifier())])))\n",
    "pipelines.append((\"ScaledCART\",Pipeline([(\"bina\",StandardScaler()),(\"CART\",DecisionTreeClassifier())])))\n",
    "pipelines.append((\"ScaledNB\",Pipeline([(\"bina\",StandardScaler()),(\"NB\",GaussianNB())])))\n",
    "pipelines.append((\"ScaledSVM\",Pipeline([(\"bina\",StandardScaler()),(\"svm\",SVC())])))\n",
    "results = []\n",
    "names = []\n",
    "\n",
    "for name,model in pipelines:\n",
    "    kfold = model_selection.ShuffleSplit(n_splits = 10,test_size = test_size ,random_state = seed)\n",
    "    cv_results = model_selection.cross_val_score(model,x,y,cv = kfold)\n",
    "    results.append(cv_results)\n",
    "    names.append(name)\n",
    "    msg = \"%s: %f (%f)\" % (name,cv_results.mean()*100,cv_results.std())\n",
    "    print(msg)"
   ]
  },
  {
   "cell_type": "code",
   "execution_count": 18,
   "id": "ccacfd09",
   "metadata": {},
   "outputs": [
    {
     "name": "stdout",
     "output_type": "stream",
     "text": [
      "Best: 89.903030 using {'n_neighbors': 21}\n"
     ]
    }
   ],
   "source": [
    "from sklearn.model_selection import GridSearchCV\n",
    "from sklearn.metrics import accuracy_score\n",
    "\n",
    "scaler = Binarizer().fit(x)\n",
    "rescaledX = scaler.transform(x)\n",
    "neighbors = [1,3,5,7,9,11,13,15,17,19,21]\n",
    "param_grid = dict(n_neighbors = neighbors)\n",
    "scoring = 'accuracy'\n",
    "model = KNeighborsClassifier()\n",
    "kfold = model_selection.ShuffleSplit(n_splits = 10,test_size = test_size ,random_state = seed)\n",
    "grid = GridSearchCV(estimator = model ,param_grid = param_grid ,cv = kfold,scoring = scoring)\n",
    "grid_result = grid.fit(rescaledX,y)\n",
    "print(\"Best: %f using %s\" % (grid_result.best_score_*100,grid_result.best_params_))"
   ]
  },
  {
   "cell_type": "code",
   "execution_count": 19,
   "id": "91b9493d",
   "metadata": {},
   "outputs": [
    {
     "name": "stderr",
     "output_type": "stream",
     "text": [
      "C:\\Users\\Thingbaijam Celina\\anaconda3\\lib\\site-packages\\sklearn\\model_selection\\_validation.py:372: FitFailedWarning: \n",
      "50 fits failed out of a total of 200.\n",
      "The score on these train-test partitions for these parameters will be set to nan.\n",
      "If these failures are not expected, you can try to debug them by setting error_score='raise'.\n",
      "\n",
      "Below are more details about the failures:\n",
      "--------------------------------------------------------------------------------\n",
      "50 fits failed with the following error:\n",
      "Traceback (most recent call last):\n",
      "  File \"C:\\Users\\Thingbaijam Celina\\anaconda3\\lib\\site-packages\\sklearn\\model_selection\\_validation.py\", line 680, in _fit_and_score\n",
      "    estimator.fit(X_train, y_train, **fit_params)\n",
      "  File \"C:\\Users\\Thingbaijam Celina\\anaconda3\\lib\\site-packages\\sklearn\\svm\\_base.py\", line 255, in fit\n",
      "    fit(X, y, sample_weight, solver_type, kernel, random_seed=seed)\n",
      "  File \"C:\\Users\\Thingbaijam Celina\\anaconda3\\lib\\site-packages\\sklearn\\svm\\_base.py\", line 315, in _dense_fit\n",
      "    ) = libsvm.fit(\n",
      "  File \"sklearn\\svm\\_libsvm.pyx\", line 173, in sklearn.svm._libsvm.fit\n",
      "ValueError: 'Sigmoid' is not in list\n",
      "\n",
      "  warnings.warn(some_fits_failed_message, FitFailedWarning)\n",
      "C:\\Users\\Thingbaijam Celina\\anaconda3\\lib\\site-packages\\sklearn\\model_selection\\_search.py:969: UserWarning: One or more of the test scores are non-finite: [0.9   0.9   0.9     nan 0.9   0.9   0.9     nan 0.9   0.9   0.9     nan\n",
      " 0.9   0.899 0.9     nan 0.9   0.899 0.9     nan 0.9   0.9   0.9     nan\n",
      " 0.9   0.901 0.9     nan 0.9   0.901 0.9     nan 0.9   0.901 0.901   nan\n",
      " 0.9   0.901 0.901   nan]\n",
      "  warnings.warn(\n"
     ]
    },
    {
     "name": "stdout",
     "output_type": "stream",
     "text": [
      "Best : 0.901380 using {'C': 1.6, 'kernel': 'poly'}\n"
     ]
    }
   ],
   "source": [
    "scaler = Binarizer().fit(x) \n",
    "rescaledX = scaler.transform(x)\n",
    "c_values = [0.1,0.3,0.5,0.6,0.7,0.9,1.1,1.3,1.6,1.9]\n",
    "kernel_values = [\"linear\",'poly','rbf','Sigmoid']\n",
    "param_grid = dict(C = c_values ,kernel = kernel_values)\n",
    "model = SVC()\n",
    "scoring = 'accuracy'\n",
    "kfold = model_selection.ShuffleSplit(n_splits = 10,test_size = test_size ,random_state = seed)\n",
    "grid = GridSearchCV(estimator = model ,param_grid = param_grid ,scoring = scoring)\n",
    "grid_result = grid.fit(rescaledX,y)\n",
    "print(\"Best : %f using %s\" % (grid_result.best_score_,grid_result.best_params_))"
   ]
  },
  {
   "cell_type": "code",
   "execution_count": 20,
   "id": "7b593f32",
   "metadata": {},
   "outputs": [
    {
     "name": "stdout",
     "output_type": "stream",
     "text": [
      "AD: 0.899182 (0.002126)\n",
      "GBM: 0.899061 (0.002253)\n",
      "RF: 0.899212 (0.002268)\n",
      "ET: 0.899848 (0.001942)\n"
     ]
    }
   ],
   "source": [
    "from sklearn.ensemble import AdaBoostClassifier\n",
    "from sklearn.ensemble import GradientBoostingClassifier\n",
    "from sklearn.ensemble import RandomForestClassifier\n",
    "from sklearn.ensemble import ExtraTreesClassifier\n",
    "\n",
    "ensembles = []\n",
    "ensembles.append((\"AD\",AdaBoostClassifier()))\n",
    "ensembles.append((\"GBM\",GradientBoostingClassifier()))\n",
    "ensembles.append((\"RF\",RandomForestClassifier()))\n",
    "ensembles.append((\"ET\",ExtraTreesClassifier()))\n",
    "\n",
    "results = []\n",
    "names = []\n",
    "scoring = 'accuracy'\n",
    "for name,model in ensembles:\n",
    "    kfold = model_selection.ShuffleSplit(n_splits = 10,test_size = test_size ,random_state = seed)\n",
    "    cv_results = model_selection.cross_val_score(model,x,y,cv = kfold,scoring = scoring)\n",
    "    results.append(cv_results)\n",
    "    names.append(name)\n",
    "    msg = \"%s: %f (%f)\" % (name,cv_results.mean(),cv_results.std())\n",
    "    print(msg)"
   ]
  },
  {
   "cell_type": "code",
   "execution_count": 21,
   "id": "b0bbf0c5",
   "metadata": {},
   "outputs": [
    {
     "data": {
      "image/png": "[encoded data removed]",
      "text/plain": [
       "<Figure size 432x288 with 1 Axes>"
      ]
     },
     "metadata": {
      "needs_background": "light"
     },
     "output_type": "display_data"
    }
   ],
   "source": [
    "fig = plt.figure()\n",
    "fig.suptitle(\"Ensemble Algorithms Comaparision\")\n",
    "ax = fig.add_subplot(111)\n",
    "plt.boxplot(results)\n",
    "ax.set_xticklabels(names)\n",
    "plt.show()"
   ]
  },
  {
   "cell_type": "code",
   "execution_count": 22,
   "id": "0226f3e0",
   "metadata": {},
   "outputs": [
    {
     "data": {
      "text/plain": [
       "SVC(kernel='poly')"
      ]
     },
     "execution_count": 22,
     "metadata": {},
     "output_type": "execute_result"
    }
   ],
   "source": [
    "scaler = Binarizer(threshold = 0.0).fit(x)\n",
    "rescaledX = scaler.transform(x)\n",
    "model = SVC(kernel = \"poly\")\n",
    "model.fit(rescaledX,y)"
   ]
  },
  {
   "cell_type": "code",
   "execution_count": 23,
   "id": "f4911390",
   "metadata": {},
   "outputs": [
    {
     "name": "stdout",
     "output_type": "stream",
     "text": [
      "0.9013802760552111\n"
     ]
    }
   ],
   "source": [
    "rescaledValidationX = scaler.transform(x)\n",
    "predictions = model.predict(rescaledValidationX)\n",
    "print(accuracy_score(y,predictions))"
   ]
  },
  {
   "cell_type": "code",
   "execution_count": 24,
   "id": "8de61466",
   "metadata": {},
   "outputs": [
    {
     "name": "stdout",
     "output_type": "stream",
     "text": [
      "[[8988   10]\n",
      " [ 976   24]]\n"
     ]
    }
   ],
   "source": [
    "from sklearn.metrics import confusion_matrix\n",
    "print(confusion_matrix(y,predictions))"
   ]
  },
  {
   "cell_type": "code",
   "execution_count": 25,
   "id": "7a001c7d",
   "metadata": {},
   "outputs": [
    {
     "name": "stdout",
     "output_type": "stream",
     "text": [
      "              precision    recall  f1-score   support\n",
      "\n",
      "         0.0       0.90      1.00      0.95      8998\n",
      "         1.0       0.71      0.02      0.05      1000\n",
      "\n",
      "    accuracy                           0.90      9998\n",
      "   macro avg       0.80      0.51      0.50      9998\n",
      "weighted avg       0.88      0.90      0.86      9998\n",
      "\n"
     ]
    }
   ],
   "source": [
    "from sklearn.metrics import classification_report\n",
    "print(classification_report(y,predictions))"
   ]
  }
 ],
 "metadata": {
  "kernelspec": {
   "display_name": "Python 3 (ipykernel)",
   "language": "python",
   "name": "python3"
  },
  "language_info": {
   "codemirror_mode": {
    "name": "ipython",
    "version": 3
   },
   "file_extension": ".py",
   "mimetype": "text/x-python",
   "name": "python",
   "nbconvert_exporter": "python",
   "pygments_lexer": "ipython3",
   "version": "3.9.12"
  }
 },
 "nbformat": 4,
 "nbformat_minor": 5
}
